{
 "cells": [
  {
   "cell_type": "code",
   "execution_count": 40,
   "metadata": {
    "collapsed": true
   },
   "outputs": [],
   "source": [
    "import numpy as np\n",
    "from sklearn.preprocessing import normalize\n",
    "from sklearn.linear_model import Lasso\n",
    "import scipy"
   ]
  },
  {
   "cell_type": "code",
   "execution_count": 172,
   "metadata": {
    "collapsed": false
   },
   "outputs": [],
   "source": [
    "def ols_estimations(X_lab, y):\n",
    "    InverseMatrix = np.linalg.inv(np.dot(np.transpose(X_lab), X_lab))\n",
    "    beta = np.dot(np.dot(InverseMatrix, np.transpose(X_lab)), y)\n",
    "    return beta\n",
    "\n",
    "\n",
    "\n",
    "def shooting_algorithm(A, X, y, lamda = 1, iterations = 100):\n",
    "    beta = ols_estimations(X,y)\n",
    "    n_lab = len(X)\n",
    "    for iterations_number in range(iterations):\n",
    "        for i in range(len(beta)):\n",
    "            A_i = A[:, i]\n",
    "            first_coef = np.linalg.norm(A_i) ** 2 \n",
    "            second_coef = np.dot(y,  X[:, i]) / n_lab - np.dot(np.dot(A_i,  A[:, np.arange(5)!=i]), beta[np.arange(5)!=i])\n",
    "            if (second_coef - lamda) > 0:\n",
    "                beta[i] = (second_coef - lamda)/(first_coef)\n",
    "            elif (second_coef + lamda) < 0:\n",
    "                beta[i] = (second_coef + lamda)/(first_coef)\n",
    "            else:\n",
    "                beta[i] = 0\n",
    "    return beta\n",
    "            \n",
    "    \n",
    "def generate_linear_data(n = 100, test_n = 5000, dim = 5, sparse = False):\n",
    "\n",
    "    mu = range(dim)\n",
    "    Sigma = np.random.normal(10, 10, dim * dim)\n",
    "    Sigma = np.reshape(Sigma, (dim, dim))\n",
    "    Sigma = np.dot(np.transpose(Sigma), Sigma)\n",
    "    X = np.random.multivariate_normal(mu, Sigma, size = n)\n",
    "    X = normalize(X)\n",
    "    y = np.sum(X, axis = 1) + np.random.normal(0, 1, n)\n",
    "    X_test = np.random.multivariate_normal(mu, Sigma, size = test_n)\n",
    "    X_test = normalize(X_test)\n",
    "    y_test = np.sum(X_test, axis = 1) + np.random.normal(0, 1, test_n)\n",
    "    return X,y,X_test, y_test\n",
    "\n",
    "\n",
    "def shooting_algorithm_original(X, y, lamda = 1, iterations = 100):\n",
    "    beta = ols_estimations(X,y)\n",
    "\n",
    "    for iterations_number in range(iterations):\n",
    "        for i in range(len(beta)):\n",
    "            y_i = y - np.dot(X[:, np.arange(len(X[0,:]))!=i], beta[np.arange(len(beta))!=i])\n",
    "            chislitel = np.dot(y_i, X[:, i])\n",
    "            \n",
    "            if chislitel - lamda > 0:\n",
    "                beta[i] = (chislitel - lamda)/(np.dot(X[:, i],X[:, i]))\n",
    "            elif chislitel + lamda < 0:\n",
    "                beta[i] = (chislitel + lamda)/np.dot(X[:, i], X[:, i])\n",
    "            else:\n",
    "                beta[i] = 0\n",
    "    loss = 1/2 * (np.linalg.norm(y - np.dot(X,beta)))**2 + lamda * np.linalg.norm(beta, ord = 1)\n",
    "    print \"Loss: \" + str(loss)\n",
    "    return beta"
   ]
  },
  {
   "cell_type": "code",
   "execution_count": 196,
   "metadata": {
    "collapsed": false
   },
   "outputs": [],
   "source": [
    "X,y, T, A = generate_linear_data(10000)"
   ]
  },
  {
   "cell_type": "code",
   "execution_count": 197,
   "metadata": {
    "collapsed": false
   },
   "outputs": [],
   "source": [
    "A = np.dot(np.transpose(X), X)/len(y)"
   ]
  },
  {
   "cell_type": "code",
   "execution_count": 198,
   "metadata": {
    "collapsed": false
   },
   "outputs": [],
   "source": [
    "A = scipy.linalg.sqrtm(A)"
   ]
  },
  {
   "cell_type": "code",
   "execution_count": 199,
   "metadata": {
    "collapsed": false,
    "scrolled": true
   },
   "outputs": [
    {
     "name": "stdout",
     "output_type": "stream",
     "text": [
      "Loss: 0.501306143546\n"
     ]
    },
    {
     "data": {
      "text/plain": [
       "array([ 1.37811565,  1.00902726,  0.41902165,  1.35956209,  0.84733479])"
      ]
     },
     "execution_count": 199,
     "metadata": {},
     "output_type": "execute_result"
    }
   ],
   "source": [
    "shooting_algorithm_original(X[:100, :], y[:100], lamda = 0.1, iterations=2000)"
   ]
  },
  {
   "cell_type": "code",
   "execution_count": 214,
   "metadata": {
    "collapsed": false
   },
   "outputs": [
    {
     "data": {
      "text/plain": [
       "array([ 0.35698748,  1.25783096,  0.81168692,  1.90056271,  0.44109241])"
      ]
     },
     "execution_count": 214,
     "metadata": {},
     "output_type": "execute_result"
    }
   ],
   "source": [
    "shooting_algorithm(A, X[:100, :], y[:100], lamda = 0.001)"
   ]
  },
  {
   "cell_type": "code",
   "execution_count": null,
   "metadata": {
    "collapsed": true
   },
   "outputs": [],
   "source": []
  }
 ],
 "metadata": {
  "anaconda-cloud": {},
  "kernelspec": {
   "display_name": "Python [conda root]",
   "language": "python",
   "name": "conda-root-py"
  },
  "language_info": {
   "codemirror_mode": {
    "name": "ipython",
    "version": 2
   },
   "file_extension": ".py",
   "mimetype": "text/x-python",
   "name": "python",
   "nbconvert_exporter": "python",
   "pygments_lexer": "ipython2",
   "version": "2.7.12"
  }
 },
 "nbformat": 4,
 "nbformat_minor": 1
}
